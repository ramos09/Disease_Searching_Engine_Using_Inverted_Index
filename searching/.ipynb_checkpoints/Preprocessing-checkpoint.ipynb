{
 "cells": [
  {
   "cell_type": "code",
   "execution_count": 1,
   "metadata": {},
   "outputs": [],
   "source": [
    "# LIBRARY FOR DATA LOADING\n",
    "import xml.etree.ElementTree as ET\n",
    "\n",
    "# LIBRARY FOR PREPROCESSING\n",
    "import string\n",
    "import re\n",
    "from sklearn.feature_extraction.text import CountVectorizer\n",
    "from nltk.corpus import stopwords\n",
    "from nltk.stem import PorterStemmer\n",
    "\n",
    "# LIBRARY FOR RANKED RETRIEVAL\n",
    "import math\n",
    "from collections import OrderedDict"
   ]
  },
  {
   "cell_type": "code",
   "execution_count": 2,
   "metadata": {},
   "outputs": [],
   "source": [
    "# PREPROCESSING FUNCTION\n",
    "\n",
    "def loadData(location):\n",
    "    data = ET.parse(location)\n",
    "    return data.getroot()\n",
    "\n",
    "def docNumber(location):\n",
    "    docNo = []\n",
    "    data = loadData(location)\n",
    "    for node in data.iter(\"number\"):\n",
    "        docNo.append(node.text)\n",
    "    return docNo\n",
    "\n",
    "def docDisease(location):\n",
    "    docHead = []\n",
    "    data = loadData(location)\n",
    "    for node in data.iter(\"disease\"):\n",
    "        docHead.append(node.text)\n",
    "    return docHead\n",
    "    \n",
    "def docSymptom(location):\n",
    "    docText = []\n",
    "    data = loadData(location)\n",
    "    for node in data.iter(\"symptom\"):\n",
    "        docText.append(node.text)\n",
    "    return docText\n",
    "    \n",
    "def removePunctuation(textList):\n",
    "    for i in range(len(textList)):\n",
    "        for punct in string.punctuation:\n",
    "            textList[i] = textList[i].replace(punct, \" \")\n",
    "        textList[i] = re.sub(r'^https?:\\/\\/.*[\\r\\n]*', '', textList[i], flags=re.MULTILINE)\n",
    "    return textList\n",
    "\n",
    "def caseFolding(textList):\n",
    "    text = []\n",
    "    for i in range(len(textList)):\n",
    "        text.append(textList[i].lower())\n",
    "    return text\n",
    "\n",
    "def token(sentence):\n",
    "    token = []\n",
    "    for word in CountVectorizer().build_tokenizer()(sentence):\n",
    "        token.append(word)\n",
    "    return token\n",
    "\n",
    "def tokenize(textList):\n",
    "    tokens = []\n",
    "    for i in range(len(textList)):\n",
    "        tokens.append(token(textList[i]))\n",
    "    return tokens\n",
    "\n",
    "def checkStopword(sentence, stop_words):\n",
    "    sentence = [w for w in sentence if not w in stop_words]\n",
    "    return sentence\n",
    "    \n",
    "def stopwordRemove(textList):\n",
    "    stop_words = set(stopwords.words('english'))\n",
    "    text = []\n",
    "    for i in range(len(textList)):\n",
    "        text.append(checkStopword(textList[i], stop_words))\n",
    "    return text\n",
    "\n",
    "def numberRemove(textList):\n",
    "    text = []\n",
    "    for i in range(len(textList)):\n",
    "        text.append([w for w in textList[i] if not any(j.isdigit() for j in w)])\n",
    "    return text\n",
    "\n",
    "def stemming(textList):\n",
    "    stemmer = PorterStemmer()\n",
    "    text = textList\n",
    "    for i in range(len(textList)):\n",
    "        for j in range(len(textList[i])):\n",
    "            text[i][j] = stemmer.stem(text[i][j])\n",
    "    return text\n",
    "\n",
    "def sorting(textList):\n",
    "    for i in range(len(textList)):\n",
    "        textList[i] = sorted(textList[i])\n",
    "    return textList\n",
    "\n",
    "def getAllTerms(textList):\n",
    "    terms = []\n",
    "    for i in range(len(textList)):\n",
    "        for j in range(len(textList[i])):\n",
    "            terms.append(textList[i][j])\n",
    "    return sorted(set(terms))\n",
    "\n",
    "def create_Inverted_index(all_unique_documents):\n",
    "    inverted_index = {}\n",
    "    for doc_id in range(len(all_unique_documents)):\n",
    "        for term in all_unique_documents[doc_id]:\n",
    "            if term not in inverted_index:\n",
    "                inverted_index[term] = []\n",
    "            inverted_index[term].append(doc_id)"
   ]
  },
  {
   "cell_type": "code",
   "execution_count": 3,
   "metadata": {},
   "outputs": [],
   "source": [
    "location = 'data.xml'"
   ]
  },
  {
   "cell_type": "code",
   "execution_count": 4,
   "metadata": {},
   "outputs": [],
   "source": [
    "\n",
    "# LOAD DATA\n",
    "\n",
    "documentNumber   = docNumber(location)\n",
    "documentDisease = docDisease(location)\n",
    "documentSymptom = docSymptom(location)\n",
    "documentTotal    = len(documentNumber)\n",
    "text             = []\n",
    "\n",
    "\n",
    "for i in range(documentTotal):\n",
    "    text.append(documentHeadline[i] + documentText[i])"
   ]
  },
  {
   "cell_type": "code",
   "execution_count": 5,
   "metadata": {},
   "outputs": [
    {
     "data": {
      "text/plain": [
       "<function __main__.docNumber(location)>"
      ]
     },
     "execution_count": 5,
     "metadata": {},
     "output_type": "execute_result"
    }
   ],
   "source": [
    "docNumber"
   ]
  },
  {
   "cell_type": "code",
   "execution_count": 6,
   "metadata": {},
   "outputs": [],
   "source": [
    "documentNumber  = docNumber(location)\n",
    "documentDisease = docDisease(location)\n",
    "documentSymptom = docSymptom(location)\n",
    "documentTotal   = len(documentNumber)\n",
    "text            = []\n",
    "\n",
    "for i in range(documentTotal):\n",
    "    text.append(documentHeadline[i] + documentText[i])\n",
    "\n",
    "# PREPROCESSING\n",
    "text = removePunctuation(text)\n",
    "text = caseFolding(text)\n",
    "text = tokenize(text)\n",
    "text = stopwordRemove(text)\n",
    "text = numberRemove(text)\n",
    "text = stemming(text)\n",
    "\n"
   ]
  },
  {
   "cell_type": "code",
   "execution_count": 7,
   "metadata": {},
   "outputs": [],
   "source": [
    "# GET ALL TERMS IN COLLECTION\n",
    "\n",
    "terms = getAllTerms(text)\n",
    "\n"
   ]
  },
  {
   "cell_type": "code",
   "execution_count": 12,
   "metadata": {},
   "outputs": [
    {
     "name": "stdout",
     "output_type": "stream",
     "text": [
      "[]\n"
     ]
    }
   ],
   "source": [
    "print(terms)"
   ]
  },
  {
   "cell_type": "code",
   "execution_count": 8,
   "metadata": {},
   "outputs": [],
   "source": [
    "# INDEXING\n",
    "\n",
    "# index = createIndex(text,documentNumber, terms)\n",
    "index = create_Inverted_index(text)"
   ]
  },
  {
   "cell_type": "code",
   "execution_count": 10,
   "metadata": {},
   "outputs": [
    {
     "name": "stdout",
     "output_type": "stream",
     "text": [
      "None\n"
     ]
    }
   ],
   "source": [
    "print(index)\n"
   ]
  },
  {
   "cell_type": "code",
   "execution_count": null,
   "metadata": {},
   "outputs": [],
   "source": []
  }
 ],
 "metadata": {
  "kernelspec": {
   "display_name": "Python 3",
   "language": "python",
   "name": "python3"
  },
  "language_info": {
   "codemirror_mode": {
    "name": "ipython",
    "version": 3
   },
   "file_extension": ".py",
   "mimetype": "text/x-python",
   "name": "python",
   "nbconvert_exporter": "python",
   "pygments_lexer": "ipython3",
   "version": "3.7.3"
  }
 },
 "nbformat": 4,
 "nbformat_minor": 2
}
